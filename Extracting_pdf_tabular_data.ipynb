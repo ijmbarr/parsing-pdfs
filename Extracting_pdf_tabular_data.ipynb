{
 "cells": [
  {
   "cell_type": "code",
   "execution_count": 1,
   "metadata": {
    "collapsed": true
   },
   "outputs": [],
   "source": [
    "# warning: pdfminer uses python 2\n",
    "from __future__ import division"
   ]
  },
  {
   "cell_type": "markdown",
   "metadata": {},
   "source": [
    "The UK government regularly releases information about the meetings that various ministers have with external organisations. You can find the releases by searching [here](https://www.gov.uk/government/publications). The hope is that by releasing information like this the public, journalists and other organisations can have some level of scrutiny over who members of parliament are meeting.\n",
    "\n",
    "Unfortunately, the information is released in a number of different formats and styles, making any sort of attempt to automatically catalogue it difficult. On the suggestion of [Transparency International](http://www.transparency.org.uk/), I have been attempting to automate the procedure. If you are interested in the output dataset, you can find it [here](https://github.com/ijmbarr/uk_minister_meetings), the full code I used to parse the documents can be found [here](https://github.com/ijmbarr/ti_intergrity_watch), (warning: it is a mess, currently undocumented and still in progress). \n",
    "\n",
    "To produce the output, I had to extract tabular information from a number of different formats: .csv, .doc, .pdf, .xlsx, .odt and .opd. Of these, by far the most difficult was the PDF file. While there are a number of different tools for extracting tabular information from pdf documents, such as [tabula](https://www.gov.uk/government/publications) and [pdftables](https://pdftables.readthedocs.io/en/latest/), neither of them quite worked on the documents I was looking at, so I decided to create my own.\n",
    "\n",
    "Reading around, you find the the best advice about parsing PDFs is [don't do it unless you have to](https://www.binpress.com/tutorial/manipulating-pdfs-with-python/167). The reason is, as we will see, unlike formats like html or other markup languages where tables and their internal structure are well defined, in PDFs we only have low level information about the location of individual characters and lines on the page. We are going to have to use this information to infer how the table is structured.\n",
    "\n",
    "The results presented here aren't that polished yet, and I don't know how readily they will apply to other pdf formats. However, I hope this method might be of some use to other.\n",
    "\n",
    "## The Problem\n",
    "\n",
    "An example of the document we would like to parse can be found [here](https://www.gov.uk/government/publications/hmt-ministers-meetings-hospitality-gifts-and-overseas-travel-1-april-to-30-june-2014), [here](https://www.gov.uk/government/uploads/system/uploads/attachment_data/file/362728/Ministerial_Quarterly_Transparency_information_-_January_to_March_2014.pdf) and [here](https://www.gov.uk/government/publications/department-of-culture-media-and-sport-ministerial-gifts-hospitality-travel-and-meetings-july-2014-to-march-2015). Let start with the first one as an example. In order to access the content of the PDFs, I'm going to use [pdfminer](http://euske.github.io/pdfminer/index.html). \n",
    "\n",
    "The first job is to find out what sort of object exist within the PDF. pdfminer return a list of LTPage objects describing each page. Each page can contain other objects: text, rectangles, lines figures, etc. (the full hierarchy of objects returned by pdfminer is detailed [here](https://euske.github.io/pdfminer/programming.html#layout)). We can pull out pages of the document using the following code:"
   ]
  },
  {
   "cell_type": "code",
   "execution_count": 2,
   "metadata": {
    "collapsed": false
   },
   "outputs": [],
   "source": [
    "from pdfminer.pdfparser import PDFParser\n",
    "from pdfminer.pdfdocument import PDFDocument\n",
    "from pdfminer.pdfpage import PDFPage\n",
    "from pdfminer.pdfpage import PDFTextExtractionNotAllowed\n",
    "from pdfminer.pdfinterp import PDFResourceManager\n",
    "from pdfminer.pdfinterp import PDFPageInterpreter\n",
    "from pdfminer.layout import LAParams\n",
    "from pdfminer.converter import PDFPageAggregator\n",
    "\n",
    "\n",
    "def extract_layout_by_page(pdf_path):\n",
    "    \"\"\"\n",
    "    Extracts LTPage objects from a pdf file.\n",
    "    \n",
    "    slightly modified from\n",
    "    https://euske.github.io/pdfminer/programming.html\n",
    "    \"\"\"\n",
    "    laparams = LAParams()\n",
    "\n",
    "    fp = open(pdf_path, 'rb')\n",
    "    parser = PDFParser(fp)\n",
    "    document = PDFDocument(parser)\n",
    "\n",
    "    if not document.is_extractable:\n",
    "        raise PDFTextExtractionNotAllowed\n",
    "\n",
    "    rsrcmgr = PDFResourceManager()\n",
    "    device = PDFPageAggregator(rsrcmgr, laparams=laparams)\n",
    "    interpreter = PDFPageInterpreter(rsrcmgr, device)\n",
    "\n",
    "    layouts = []\n",
    "    for page in PDFPage.create_pages(document):\n",
    "        interpreter.process_page(page)\n",
    "        layouts.append(device.get_result())\n",
    "\n",
    "    return layouts\n",
    "\n",
    "example_file = \"data/DH_Ministerial_gifts_hospitality_travel_and_external_meetings_Jan_to_Mar_2015.pdf\"\n",
    "page_layouts = extract_layout_by_page(example_file)"
   ]
  },
  {
   "cell_type": "code",
   "execution_count": 3,
   "metadata": {
    "collapsed": false
   },
   "outputs": [
    {
     "data": {
      "text/plain": [
       "12"
      ]
     },
     "execution_count": 3,
     "metadata": {},
     "output_type": "execute_result"
    }
   ],
   "source": [
    "len(page_layouts)"
   ]
  },
  {
   "cell_type": "markdown",
   "metadata": {},
   "source": [
    "We can now ask what are the types of object in the documents:"
   ]
  },
  {
   "cell_type": "code",
   "execution_count": 3,
   "metadata": {
    "collapsed": false
   },
   "outputs": [
    {
     "data": {
      "text/plain": [
       "{pdfminer.layout.LTRect, pdfminer.layout.LTTextBoxHorizontal}"
      ]
     },
     "execution_count": 3,
     "metadata": {},
     "output_type": "execute_result"
    }
   ],
   "source": [
    "objects_on_page = set(type(o) for o in page_layouts[3])\n",
    "objects_on_page"
   ]
  },
  {
   "cell_type": "markdown",
   "metadata": {},
   "source": [
    "So it looks like we are only dealing with text, or rectangles. The text exists as text boxes, unfortunately they don't always match up with the table columns in a way we would like, so recursively extract each character from the text objects:"
   ]
  },
  {
   "cell_type": "code",
   "execution_count": 4,
   "metadata": {
    "collapsed": false
   },
   "outputs": [],
   "source": [
    "import pdfminer\n",
    "\n",
    "TEXT_ELEMENTS = [\n",
    "    pdfminer.layout.LTTextBox,\n",
    "    pdfminer.layout.LTTextBoxHorizontal,\n",
    "    pdfminer.layout.LTTextLine,\n",
    "    pdfminer.layout.LTTextLineHorizontal\n",
    "]\n",
    "\n",
    "def flatten(lst):\n",
    "    \"\"\"Flattens a list of lists\"\"\"\n",
    "    return [subelem for elem in lst for subelem in elem]\n",
    "\n",
    "\n",
    "def extract_characters(element):\n",
    "    \"\"\"\n",
    "    Recursively extracts individual characters from \n",
    "    text elements. \n",
    "    \"\"\"\n",
    "    if isinstance(element, pdfminer.layout.LTChar):\n",
    "        return [element]\n",
    "\n",
    "    if any(isinstance(element, i) for i in TEXT_ELEMENTS):\n",
    "        return flatten([extract_characters(e) for e in element])\n",
    "\n",
    "    if isinstance(element, list):\n",
    "        return flatten([extract_characters(l) for l in element])\n",
    "\n",
    "    return []"
   ]
  },
  {
   "cell_type": "code",
   "execution_count": 5,
   "metadata": {
    "collapsed": false
   },
   "outputs": [],
   "source": [
    "current_page = page_layouts[4]\n",
    "\n",
    "texts = []\n",
    "rects = []\n",
    "\n",
    "# separate text and rectangle elements\n",
    "for e in current_page:\n",
    "    if isinstance(e, pdfminer.layout.LTTextBoxHorizontal):\n",
    "        texts.append(e)\n",
    "    elif isinstance(e, pdfminer.layout.LTRect):\n",
    "        rects.append(e)\n",
    "\n",
    "# sort them into \n",
    "characters = extract_characters(texts)"
   ]
  },
  {
   "cell_type": "markdown",
   "metadata": {},
   "source": [
    "Each element of the pdf is described the the bounding box. We can use this to visualise how the page is arranged:"
   ]
  },
  {
   "cell_type": "code",
   "execution_count": 6,
   "metadata": {
    "collapsed": true
   },
   "outputs": [],
   "source": [
    "import matplotlib.pyplot as plt\n",
    "from matplotlib import patches\n",
    "%matplotlib inline\n",
    "\n",
    "   \n",
    "def draw_rect_bbox((x0,y0,x1,y1), ax, color):\n",
    "    \"\"\"\n",
    "    Draws an unfilled rectable onto ax.\n",
    "    \"\"\"\n",
    "    ax.add_patch( \n",
    "        patches.Rectangle(\n",
    "            (x0, y0),\n",
    "            x1 - x0,\n",
    "            y1 - y0,\n",
    "            fill=False,\n",
    "            color=color\n",
    "        )    \n",
    "    )\n",
    "    \n",
    "def draw_rect(rect, ax, color=\"black\"):\n",
    "    draw_rect_bbox(rect.bbox, ax, color)"
   ]
  },
  {
   "cell_type": "code",
   "execution_count": 7,
   "metadata": {
    "collapsed": false
   },
   "outputs": [
    {
     "data": {
      "image/png": "[encoded data removed]",
      "text/plain": [
       "<matplotlib.figure.Figure at 0x7faaf1fb8610>"
      ]
     },
     "metadata": {},
     "output_type": "display_data"
    }
   ],
   "source": [
    "xmin, ymin, xmax, ymax = current_page.bbox\n",
    "size = 6\n",
    "\n",
    "fig, ax = plt.subplots(figsize = (size, size * (ymax/xmax)))\n",
    "\n",
    "for rect in rects:\n",
    "    draw_rect(rect, ax)\n",
    "    \n",
    "for c in characters:\n",
    "    draw_rect(c, ax, \"red\")\n",
    "    \n",
    "\n",
    "plt.xlim(xmin, xmax)\n",
    "plt.ylim(ymin, ymax)\n",
    "plt.show()"
   ]
  },
  {
   "cell_type": "markdown",
   "metadata": {},
   "source": [
    "To pull out the information in table format, we need a way to identify the cells of the table, and to identify which cell each character belongs to.\n",
    "\n",
    "It would be nice to think that the rectangles here match the edges of the cells of the tables, however exploring the layout you find that while some rectangles refer to cells, other seem to be used as line segments, and others as pixels. Some investigation suggest that the table can be defined by only looking at the rectangle which are \"line-like\", which we defined as any rectangle narrower then two pixels, with an area greater than one pixel:"
   ]
  },
  {
   "cell_type": "code",
   "execution_count": 8,
   "metadata": {
    "collapsed": true
   },
   "outputs": [],
   "source": [
    "def width(rect):\n",
    "    x0, y0, x1, y1 = rect.bbox\n",
    "    return min(x1 - x0, y1 - y0)\n",
    "\n",
    "def area(rect):\n",
    "    x0, y0, x1, y1 = rect.bbox\n",
    "    return (x1 - x0) * (y1 - y0)\n",
    "\n",
    "\n",
    "def cast_as_line(rect):\n",
    "    \"\"\"\n",
    "    Replaces a retangle with a line based on its longest dimension.\n",
    "    \"\"\"\n",
    "    x0, y0, x1, y1 = rect.bbox\n",
    "\n",
    "    if x1 - x0 > y1 - y0:\n",
    "        return (x0, y0, x1, y0, \"H\")\n",
    "    else:\n",
    "        return (x0, y0, x0, y1, \"V\")\n",
    "    \n",
    "lines = [cast_as_line(r) for r in rects\n",
    "         if width(r) < 2 and\n",
    "         area(r) > 1]"
   ]
  },
  {
   "cell_type": "markdown",
   "metadata": {},
   "source": [
    "Plotting the page again, but only with the lines gives:"
   ]
  },
  {
   "cell_type": "code",
   "execution_count": 9,
   "metadata": {
    "collapsed": false
   },
   "outputs": [
    {
     "data": {
      "image/png": "[encoded data removed]",
      "text/plain": [
       "<matplotlib.figure.Figure at 0x7faaf1fb8190>"
      ]
     },
     "metadata": {},
     "output_type": "display_data"
    }
   ],
   "source": [
    "xmin, ymin, xmax, ymax = current_page.bbox\n",
    "size = 6\n",
    "\n",
    "fig, ax = plt.subplots(figsize = (size, size * (ymax/xmax)))\n",
    "\n",
    "for l in lines:\n",
    "    x0,y0,x1,y1,_ = l\n",
    "    plt.plot([x0, x1], [y0, y1], 'k-')\n",
    "    \n",
    "for c in characters:\n",
    "    draw_rect(c, ax, \"red\")\n",
    "\n",
    "plt.xlim(xmin, xmax)\n",
    "plt.ylim(ymin, ymax)\n",
    "plt.show()"
   ]
  },
  {
   "cell_type": "markdown",
   "metadata": {},
   "source": [
    "Now onto the main question: how do we assign characters to cells? We use a simple idea, for each character, find the line that bounds it from above, below, left and right. Define these four lines as the cell. We do this using the following function"
   ]
  },
  {
   "cell_type": "code",
   "execution_count": 10,
   "metadata": {
    "collapsed": true
   },
   "outputs": [],
   "source": [
    "def does_it_intersect(x, (xmin, xmax)):\n",
    "    return (x <= xmax and x >= xmin)\n",
    "\n",
    "def find_bounding_rectangle((x, y), lines):\n",
    "    \"\"\"\n",
    "    Given a collection of lines, and a point, try to find the rectangle \n",
    "    made from the lines that bounds the point. If the point is not \n",
    "    bounded, return None.\n",
    "    \"\"\"\n",
    "    \n",
    "    v_intersects = [l for l in lines\n",
    "                    if l[4] == \"V\"\n",
    "                    and does_it_intersect(y, (l[1], l[3]))]\n",
    "\n",
    "    h_intersects = [l for l in lines\n",
    "                    if l[4] == \"H\"\n",
    "                    and does_it_intersect(x, (l[0], l[2]))]\n",
    "\n",
    "    if len(v_intersects) < 2 or len(h_intersects) < 2:\n",
    "        return None\n",
    "\n",
    "    v_left = [v[0] for v in v_intersects\n",
    "              if v[0] < x]\n",
    "\n",
    "    v_right = [v[0] for v in v_intersects\n",
    "               if v[0] > x]\n",
    "\n",
    "    if len(v_left) == 0 or len(v_right) == 0:\n",
    "        return None\n",
    "\n",
    "    x0, x1 = max(v_left), min(v_right)\n",
    "\n",
    "    h_down = [h[1] for h in h_intersects\n",
    "              if h[1] < y]\n",
    "\n",
    "    h_up = [h[1] for h in h_intersects\n",
    "            if h[1] > y]\n",
    "\n",
    "    if len(h_down) == 0 or len(h_up) == 0:\n",
    "        return None\n",
    "\n",
    "    y0, y1 = max(h_down), min(h_up)\n",
    "\n",
    "    return (x0, y0, x1, y1)"
   ]
  },
  {
   "cell_type": "markdown",
   "metadata": {},
   "source": [
    "The line segments that make up the cell boundaries aren't always complete - those small pixel sized rectangle we threw away earlier leave gaps in them. Combined with the bbox's of character sometime lying outside their cell, we have to be careful about which point we use to find its cell. To make things robust I use three points: the bottom left corner, the top right corner and the centre. The box that defines that majority of these is the one chosen.\n",
    "\n",
    "We can now run this code over every character. "
   ]
  },
  {
   "cell_type": "code",
   "execution_count": 11,
   "metadata": {
    "collapsed": false
   },
   "outputs": [],
   "source": [
    "from collections import defaultdict\n",
    "import math\n",
    "\n",
    "box_char_dict = {}\n",
    "\n",
    "for c in characters:\n",
    "    # choose the bounding box that occurs the majority of times for each of these:\n",
    "    bboxes = defaultdict(int)\n",
    "    l_x, l_y = c.bbox[0], c.bbox[1]\n",
    "    bbox_l = find_bounding_rectangle((l_x, l_y), lines)\n",
    "    bboxes[bbox_l] += 1\n",
    "\n",
    "    c_x, c_y = math.floor((c.bbox[0] + c.bbox[2]) / 2), math.floor((c.bbox[1] + c.bbox[3]) / 2)\n",
    "    bbox_c = find_bounding_rectangle((c_x, c_y), lines)\n",
    "    bboxes[bbox_c] += 1\n",
    "\n",
    "    u_x, u_y = c.bbox[2], c.bbox[3]\n",
    "    bbox_u = find_bounding_rectangle((u_x, u_y), lines)\n",
    "    bboxes[bbox_u] += 1\n",
    "\n",
    "    # if all values are in different boxes, default to character center.\n",
    "    # otherwise choose the majority.\n",
    "    if max(bboxes.values()) == 1:\n",
    "        bbox = bbox_c\n",
    "    else:\n",
    "        bbox = max(bboxes.items(), key=lambda x: x[1])[0]\n",
    "\n",
    "    if bbox is None:\n",
    "        continue\n",
    "\n",
    "    if bbox in box_char_dict.keys():\n",
    "        box_char_dict[bbox].append(c)\n",
    "        continue\n",
    "\n",
    "    box_char_dict[bbox] = [c]"
   ]
  },
  {
   "cell_type": "markdown",
   "metadata": {},
   "source": [
    "To check that this has works, we can plot the page again, focusing on one particular cell:"
   ]
  },
  {
   "cell_type": "code",
   "execution_count": 12,
   "metadata": {
    "collapsed": false
   },
   "outputs": [
    {
     "data": {
      "image/png": "[encoded data removed]",
      "text/plain": [
       "<matplotlib.figure.Figure at 0x7faaefebcc10>"
      ]
     },
     "metadata": {},
     "output_type": "display_data"
    }
   ],
   "source": [
    "import random\n",
    "xmin, ymin, xmax, ymax = current_page.bbox\n",
    "size = 6\n",
    "\n",
    "fig, ax = plt.subplots(figsize = (size, size * (ymax/xmax)))\n",
    "\n",
    "for l in lines:\n",
    "    x0,y0,x1,y1,_ = l\n",
    "    plt.plot([x0, x1], [y0, y1], 'k-')\n",
    "    \n",
    "for c in characters:\n",
    "    draw_rect(c, ax, \"red\")\n",
    "    \n",
    "# plot the characters of a random cell as green\n",
    "for c in random.choice(box_char_dict.values()): \n",
    "    draw_rect(c, ax, \"green\")\n",
    "\n",
    "plt.xlim(xmin, xmax)\n",
    "plt.ylim(ymin, ymax)\n",
    "plt.show()"
   ]
  },
  {
   "cell_type": "markdown",
   "metadata": {},
   "source": [
    "To capture empty cells, I choose a grid on points across the page and try to assign them to a cell. If this cell isn't present in box_char_dict, then it is created and left empty."
   ]
  },
  {
   "cell_type": "code",
   "execution_count": 13,
   "metadata": {
    "collapsed": true
   },
   "outputs": [],
   "source": [
    "xmin, ymin, xmax, ymax = current_page.bbox\n",
    "\n",
    "for x in range(int(xmin), int(xmax), 10):\n",
    "    for y in range(int(ymin), int(ymax), 10):\n",
    "        bbox = find_bounding_rectangle((x, y), lines)\n",
    "\n",
    "        if bbox is None:\n",
    "            continue\n",
    "\n",
    "        if bbox in box_char_dict.keys():\n",
    "            continue\n",
    "\n",
    "        box_char_dict[bbox] = []"
   ]
  },
  {
   "cell_type": "markdown",
   "metadata": {},
   "source": [
    "All that remains is to map between the ordering of cells on the page and a python data structure and between the ordering of characters in a cell and a string. The two functions below carry this out:"
   ]
  },
  {
   "cell_type": "code",
   "execution_count": 14,
   "metadata": {
    "collapsed": true
   },
   "outputs": [],
   "source": [
    "def chars_to_string(chars):\n",
    "    \"\"\"\n",
    "    Converts a collection of characters into a string, by ordering them left to right, \n",
    "    then top to bottom.\n",
    "    \"\"\"\n",
    "    if not chars:\n",
    "        return \"\"\n",
    "    rows = sorted(list(set(c.bbox[1] for c in chars)), reverse=True)\n",
    "    text = \"\"\n",
    "    for row in rows:\n",
    "        sorted_row = sorted([c for c in chars if c.bbox[1] == row], key=lambda c: c.bbox[0])\n",
    "        text += \"\".join(c.get_text() for c in sorted_row)\n",
    "    return text\n",
    "\n",
    "\n",
    "def boxes_to_table(box_record_dict):\n",
    "    \"\"\"\n",
    "    Converts a dictionary of cell:characters mapping into a python list\n",
    "    of lists of strings. Tries to split cells into rows, then for each row \n",
    "    breaks it down into columns.\n",
    "    \"\"\"\n",
    "    boxes = box_record_dict.keys()\n",
    "    rows = sorted(list(set(b[1] for b in boxes)), reverse=True)\n",
    "    table = []\n",
    "    for row in rows:\n",
    "        sorted_row = sorted([b for b in boxes if b[1] == row], key=lambda b: b[0])\n",
    "        table.append([chars_to_string(box_record_dict[b]) for b in sorted_row])\n",
    "    return table"
   ]
  },
  {
   "cell_type": "markdown",
   "metadata": {},
   "source": [
    "The results aren't bad:"
   ]
  },
  {
   "cell_type": "code",
   "execution_count": 15,
   "metadata": {
    "collapsed": false
   },
   "outputs": [
    {
     "data": {
      "text/plain": [
       "[[u'The Rt Hon Jeremy Hunt, Secretary of State for Health '],\n",
       " [u'Date of Meeting  ',\n",
       "  u'Name of Organisation ',\n",
       "  u'Purpose of Meeting       '],\n",
       " [u'January 2015 ',\n",
       "  u'College of Emergency Medicine ',\n",
       "  u'Catch-up discussion on NHS winter pressures '],\n",
       " [u'January 2015 ',\n",
       "  u'Ovarian Cancer Action ',\n",
       "  u'Introductory discussion on ovarian cancer services '],\n",
       " [u'January 2015 ',\n",
       "  u'World Health Organisation ',\n",
       "  u'Bi-lateral with Margaret Chan, Director General '],\n",
       " [u'January 2015 ',\n",
       "  u'Greene King ',\n",
       "  u'Discussion on Dementia Friends programme '],\n",
       " [u'January 2015 ',\n",
       "  u'Royal College of General Practitioners ',\n",
       "  u'Catch-up discussion on NHS primary care services '],\n",
       " [u'January 2015 ', u'Unison ', u'Discussion on NHS industrial relations '],\n",
       " [u'January 2015 ',\n",
       "  u'National Association of Primary Care ',\n",
       "  u'Catch-up discussion on NHS primary care services '],\n",
       " [u'February 2015 ',\n",
       "  u'Cambridge Health Network ',\n",
       "  u'Roundtable discussion on healthcare technology '],\n",
       " [u'February 2015 ', u'Eli Lilly ', u'Introductory discussion '],\n",
       " [u'February 2015 ',\n",
       "  u'Air Accidents Investigation Branch ',\n",
       "  u'Introductory discussion on airline safety '],\n",
       " [u'March 2015 ', u'OC&C Stategy Consultants ', u'Discussion on leadership '],\n",
       " [u'March 2015 ',\n",
       "  u'World Health Organisation ',\n",
       "  u'International Summit in Geneva '],\n",
       " [u'March 2015 ',\n",
       "  u'Organisation for Economic Co-operation and Development ',\n",
       "  u'Discussion on healthcare services in England '],\n",
       " [u'March 2015 ',\n",
       "  u'Macmillan, Marie Curie, National Council for Palliative Care, Cicely Saunders International, Motor Neurone Disease Association, Sue Ryder, Hospice Uk ',\n",
       "  u'Roundtable discussion on end of life care '],\n",
       " [u' '],\n",
       " [u'Dr. Dan Poulter / Parliamentary Under-Secretary for State for Health  '],\n",
       " [u'Date of Meeting  ',\n",
       "  u'Name of Organisation ',\n",
       "  u'Purpose of Meeting       '],\n",
       " [u'January 2015 ',\n",
       "  u'Group B Strep Support ',\n",
       "  u'Cross party delegation to discuss concerns of Group B Strep Support Group '],\n",
       " [u'January 2015 ',\n",
       "  u'British Medical Association  ',\n",
       "  u'Discussion on General Medical Council objectives '],\n",
       " [u'January 2015 ',\n",
       "  u'General Medical Council, Health Education England and Medical Schools Council  ',\n",
       "  u'Discussion on point of registration ']]"
      ]
     },
     "execution_count": 15,
     "metadata": {},
     "output_type": "execute_result"
    }
   ],
   "source": [
    "boxes_to_table(box_char_dict)"
   ]
  },
  {
   "cell_type": "markdown",
   "metadata": {},
   "source": [
    "## Conclusions\n",
    "We have achieved what we set out to do: extract tabular information from a PDF into a data structure that we can use.\n",
    "\n",
    "Certain things in this approach get missed, such as distinctions between tables, and distinctions between headers and rows, but depending on the document these things can often be inferred from the structure. \n",
    "\n",
    "Hopefully this will be of use to someone. I had considered packaging the whole thing up into a module, but I am not sure how well this approach generalises to other documents. If there is sufficient interest I'm happy to consider spending the time on it.\n",
    "\n",
    "## How it was Made\n",
    "This post was created as a jupyter notebook. You download a copy [here](https://github.com/ijmbarr/parsing-pdfs)."
   ]
  }
 ],
 "metadata": {
  "kernelspec": {
   "display_name": "Python 2",
   "language": "python",
   "name": "python2"
  },
  "language_info": {
   "codemirror_mode": {
    "name": "ipython",
    "version": 2
   },
   "file_extension": ".py",
   "mimetype": "text/x-python",
   "name": "python",
   "nbconvert_exporter": "python",
   "pygments_lexer": "ipython2",
   "version": "2.7.11+"
  }
 },
 "nbformat": 4,
 "nbformat_minor": 0
}
